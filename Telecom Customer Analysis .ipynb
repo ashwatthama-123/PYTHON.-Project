{
 "cells": [
  {
   "cell_type": "markdown",
   "id": "b7677d3e-e16a-4fed-bbeb-d1a32b689f94",
   "metadata": {},
   "source": [
    "                                               Importing raw data into Python from file "
   ]
  },
  {
   "cell_type": "code",
   "execution_count": null,
   "id": "9a670687-026e-4277-8e53-d3f1d776ab0a",
   "metadata": {},
   "outputs": [],
   "source": [
    "!pip install pandas\n",
    "!pip install matplotlib\n",
    "!pip install numpy\n",
    "!pip install seaborn"
   ]
  },
  {
   "cell_type": "code",
   "execution_count": null,
   "id": "56e8b7c1-f4e9-4f6e-9cd8-e318647899d6",
   "metadata": {},
   "outputs": [],
   "source": [
    "import pandas as pd\n",
    "import numpy as np\n",
    "import matplotlib.pyplot as plt\n",
    "import seaborn as sns\n",
    "\n",
    "df = pd.read_csv('Customer Churn.csv')\n",
    "df. head()"
   ]
  },
  {
   "cell_type": "code",
   "execution_count": null,
   "id": "52e9bd7c-2557-4683-82ad-c673da2a560f",
   "metadata": {},
   "outputs": [],
   "source": [
    "df.info()"
   ]
  },
  {
   "cell_type": "markdown",
   "id": "b9455659-88af-4eb0-8123-c286d0b0927b",
   "metadata": {},
   "source": [
    "                                                           DATA CLEANING PART "
   ]
  },
  {
   "cell_type": "code",
   "execution_count": 16,
   "id": "12281371-69e0-44de-b3b3-4017d9ecb284",
   "metadata": {},
   "outputs": [],
   "source": [
    "# Replacing the blank with 0 as tenure is NULL with no recordes "
   ]
  },
  {
   "cell_type": "code",
   "execution_count": 12,
   "id": "a4c5a612-bf53-4390-aa96-6f64affaa240",
   "metadata": {},
   "outputs": [],
   "source": [
    "df[\"TotalCharges\"] = df[\"TotalCharges\"].replace(\"  \", \"0\")\n",
    "df[\"TotalCharges\"] = df[\"TotalCharges\"].astype(\"float\")"
   ]
  },
  {
   "cell_type": "code",
   "execution_count": null,
   "id": "539b155c-bb93-4178-8a9f-4ed59f6ba079",
   "metadata": {},
   "outputs": [],
   "source": [
    "df.info()"
   ]
  },
  {
   "cell_type": "code",
   "execution_count": null,
   "id": "296cd8cc-cc82-4626-af2e-50ebfc1f6119",
   "metadata": {},
   "outputs": [],
   "source": [
    "df.isnull().sum().sum()"
   ]
  },
  {
   "cell_type": "code",
   "execution_count": null,
   "id": "d8bc8c75-e6e8-42f0-b968-f3a4ddf9da37",
   "metadata": {},
   "outputs": [],
   "source": [
    "# NO NULL VALUES IN THE TABLE OR ROWS "
   ]
  },
  {
   "cell_type": "code",
   "execution_count": null,
   "id": "0e744988-b061-4873-99f0-1253b1ad11b9",
   "metadata": {},
   "outputs": [],
   "source": [
    "df.describe()"
   ]
  },
  {
   "cell_type": "code",
   "execution_count": null,
   "id": "80ff7a37-3c2f-4e9c-9402-255cdea4f441",
   "metadata": {},
   "outputs": [],
   "source": [
    "# DESCRIBE SHOWS ALL THE AGGREGATIONS ON COUNT, SUM, MIN, MAX & PERCENTAGE"
   ]
  },
  {
   "cell_type": "code",
   "execution_count": null,
   "id": "828bf2d5-0853-467a-9cc0-a26fe043845f",
   "metadata": {},
   "outputs": [],
   "source": [
    "df[\"customerID\"].duplicated().sum()  "
   ]
  },
  {
   "cell_type": "code",
   "execution_count": null,
   "id": "d3b56688-414a-471a-a1cd-f430b497a379",
   "metadata": {},
   "outputs": [],
   "source": [
    "df[\"gender\"].duplicated().sum()"
   ]
  },
  {
   "cell_type": "code",
   "execution_count": null,
   "id": "90d7279e-16e6-4d2e-9df4-9c0644f26444",
   "metadata": {},
   "outputs": [],
   "source": [
    "df[\"PaymentMethod\"].duplicated().sum()"
   ]
  },
  {
   "cell_type": "code",
   "execution_count": null,
   "id": "160c64c6-3516-4637-988b-1e906555aef1",
   "metadata": {},
   "outputs": [],
   "source": [
    "df.groupby([\"PaymentMethod\"]).count()"
   ]
  },
  {
   "cell_type": "code",
   "execution_count": 21,
   "id": "c7919629-bc29-4d82-9902-2744aea4b6cf",
   "metadata": {},
   "outputs": [],
   "source": [
    "def conv(value):\n",
    "    if value == 1:\n",
    "        return \"yes\"\n",
    "    else:\n",
    "        return \"no\"\n",
    "\n",
    "# Apply the function to the 'SeniorCitizen' column\n",
    "df['SeniorCitizen'] = df[\"SeniorCitizen\"].apply(conv)"
   ]
  },
  {
   "cell_type": "code",
   "execution_count": null,
   "id": "7b166632-8d14-46f3-b36f-0272db8067f6",
   "metadata": {},
   "outputs": [],
   "source": [
    "df.head()"
   ]
  },
  {
   "cell_type": "code",
   "execution_count": null,
   "id": "619a1408-4291-4c58-9137-0304cf71f988",
   "metadata": {},
   "outputs": [],
   "source": [
    "# CONVERTED 0 AND 1 VALUES OF SENIOR CITIZEN TO YES/NO TO MAKE IT EASIER TO UNDERSTAND "
   ]
  },
  {
   "cell_type": "markdown",
   "id": "9a9ca8fa-59a8-4f52-952d-d07d729dac68",
   "metadata": {},
   "source": [
    "                                                             DATA ANALYSIS PART"
   ]
  },
  {
   "cell_type": "code",
   "execution_count": null,
   "id": "8e1d7d53-38bd-479c-aea4-db4822ae66b1",
   "metadata": {},
   "outputs": [],
   "source": [
    "#1 Showing Analysis with use of bar_chart "
   ]
  },
  {
   "cell_type": "code",
   "execution_count": null,
   "id": "151b2966-d7ae-465e-8c93-43bcef2cf5c2",
   "metadata": {},
   "outputs": [],
   "source": [
    "# Code that shown the output of barchart \n",
    "ax = sns.countplot(\n",
    "    x='Churn',\n",
    "    hue='Churn',\n",
    "    data=df,\n",
    "    palette={'No': 'yellow', 'Yes': 'red'},\n",
    "    legend=False \n",
    ")\n",
    "\n",
    "plt.title(\"COUNT OF CUSTOMERS BY CHURN\", fontsize=12, fontweight='bold')\n",
    "\n",
    "# Add labels to bars\n",
    "for container in ax.containers:\n",
    "    ax.bar_label(container)\n",
    "\n",
    "plt.show()"
   ]
  },
  {
   "cell_type": "code",
   "execution_count": null,
   "id": "25b89688-6f47-41b7-ae69-83882338d5ec",
   "metadata": {},
   "outputs": [],
   "source": [
    "# Explain: A Bar_Chart of Churn in which is highers number of NO and Less for YES"
   ]
  },
  {
   "cell_type": "code",
   "execution_count": null,
   "id": "65a43d49-cc8f-4a7a-9f5e-639619f80762",
   "metadata": {},
   "outputs": [],
   "source": [
    "#2 Groupby with aggretions (count)  "
   ]
  },
  {
   "cell_type": "code",
   "execution_count": null,
   "id": "c1651495-54ca-41a7-b1f9-26d5cdb6ba24",
   "metadata": {},
   "outputs": [],
   "source": [
    "gb = df.groupby(\"Churn\"). agg({'Churn':\"count\"})\n",
    "gb"
   ]
  },
  {
   "cell_type": "code",
   "execution_count": null,
   "id": "1ef5a9ec-1a05-431f-bedb-b4aaf439af6e",
   "metadata": {},
   "outputs": [],
   "source": [
    "#3 Showing Analysis of Pie_Chart by doing groupby "
   ]
  },
  {
   "cell_type": "code",
   "execution_count": null,
   "id": "31bc08a9-2792-424c-9a49-60c8fa710d9e",
   "metadata": {},
   "outputs": [],
   "source": [
    "# Group the data\n",
    "gb = df.groupby(\"Churn\").agg({'Churn': \"count\"})\n",
    "\n",
    "# Plot the pie chart\n",
    "plt.figure(figsize=(4, 4))\n",
    "plt.pie(\n",
    "    gb['Churn'],\n",
    "    labels=gb.index,\n",
    "    autopct=\"%1.2f%%\",\n",
    "    colors=['orange', 'red']\n",
    ")\n",
    "plt.title(\"PERCENTAGE OF CHURNED CUSTOMERS\", fontsize=12, fontweight='bold')\n",
    "plt.show()"
   ]
  },
  {
   "cell_type": "code",
   "execution_count": null,
   "id": "d3c2e193-9c0a-419d-bd5e-138477e8e332",
   "metadata": {},
   "outputs": [],
   "source": [
    "# Explain: From given Pie_chart we can conclude that 26.54% in RED is YES whereas 73.46% in ORANGE is NO "
   ]
  },
  {
   "cell_type": "code",
   "execution_count": null,
   "id": "5b44bb8e-9841-48b9-b3cd-eda1d035220f",
   "metadata": {},
   "outputs": [],
   "source": [
    "#4 Groupby with aggretions (count)  "
   ]
  },
  {
   "cell_type": "code",
   "execution_count": null,
   "id": "aaf042d9-1909-4704-a8e7-24dfd5f69b1f",
   "metadata": {},
   "outputs": [],
   "source": [
    "gb = df.groupby(\"gender\"). agg({'gender':\"count\"})\n",
    "gb"
   ]
  },
  {
   "cell_type": "code",
   "execution_count": null,
   "id": "39cf15c8-14eb-4609-b7b8-f2250dc01613",
   "metadata": {},
   "outputs": [],
   "source": [
    "#5 This graph is a bar_chart of two groups in which we will have GENDER & CHURN"
   ]
  },
  {
   "cell_type": "code",
   "execution_count": null,
   "id": "541c0f99-9d97-45fe-bca4-ccd3fdeb03b6",
   "metadata": {},
   "outputs": [],
   "source": [
    "# Set figure size\n",
    "plt.figure(figsize=(5, 4))\n",
    "\n",
    "# Create countplot: Churn distribution by gender\n",
    "ax = sns.countplot(\n",
    "    data=df,\n",
    "    x='gender',\n",
    "    hue='Churn',\n",
    "    palette={'Yes': 'yellow', 'No': 'purple'},\n",
    "    legend=False\n",
    ")\n",
    "\n",
    "# Set plot title and labels\n",
    "ax.set_title(\"Churn by Gender\", fontsize=12, fontweight='bold')\n",
    "ax.set_xlabel(\"Gender\", fontsize=10)\n",
    "ax.set_ylabel(\"Number of Customers\", fontsize=10)\n",
    "\n",
    "# Add value labels on top of bars\n",
    "for container in ax.containers:\n",
    "    ax.bar_label(container, fontsize=9)\n",
    "\n",
    "# Display the plot\n",
    "plt.tight_layout()\n",
    "plt.show()"
   ]
  },
  {
   "cell_type": "code",
   "execution_count": null,
   "id": "ca67ce0c-7a22-4a15-9121-377a3d882365",
   "metadata": {},
   "outputs": [],
   "source": [
    "# Explain: From the above bar_chart we can conclude that in Purple which is no.of customers is 2549 of Female & for Men is 2625 "
   ]
  },
  {
   "cell_type": "code",
   "execution_count": null,
   "id": "698bd34e-0212-4615-888e-50c90836ac6d",
   "metadata": {},
   "outputs": [],
   "source": [
    "#6 STACK BAR which will indicates you on categories of SENIOR CITIZEN & CHURN"
   ]
  },
  {
   "cell_type": "code",
   "execution_count": null,
   "id": "29d1d5b6-12f5-4d42-b780-39c4e3f263e8",
   "metadata": {},
   "outputs": [],
   "source": [
    "# Step 1: Create a crosstab (count of Churn by SeniorCitizen)\n",
    "ct = pd.crosstab(df['SeniorCitizen'], df['Churn'])\n",
    "\n",
    "# Step 2: Convert to percentage\n",
    "ct_percent = ct.div(ct.sum(axis=0), axis=1) * 100\n",
    "print(ct)\n",
    "\n",
    "# Step 3: Plot stacked bar chart\n",
    "ax = ct_percent.plot(kind='bar', stacked=True, figsize=(5, 6), \n",
    "                     color=['pink', 'grey'])\n",
    "\n",
    "# Step 4: Add percent labels on each bar segment\n",
    "for container in ax.containers:\n",
    "    ax.bar_label(container, fmt='%.1f%%', label_type='center', fontsize=12, fontweight='bold')\n",
    "\n",
    "# Step 5: Add title and labels\n",
    "plt.title('Churn by SeniorCitizen (in %)' , fontsize=12, fontweight='bold')\n",
    "plt.xlabel('SeniorCitizen')\n",
    "plt.ylabel('Percentage')\n",
    "plt.legend(title='Churn')\n",
    "plt.tight_layout()\n",
    "plt.show()"
   ]
  },
  {
   "cell_type": "code",
   "execution_count": null,
   "id": "c57a6639-2ae0-4161-8df0-03380d6b3093",
   "metadata": {},
   "outputs": [],
   "source": [
    "# Explain: Comparative a greater percentage of people is NO in senior citizen by Churn "
   ]
  },
  {
   "cell_type": "code",
   "execution_count": null,
   "id": "985f6b04-b87f-4dcb-881f-cc812092c821",
   "metadata": {},
   "outputs": [],
   "source": [
    "#7 HISTOGRAM CHART WITH NUMBERS OF BINS "
   ]
  },
  {
   "cell_type": "code",
   "execution_count": null,
   "id": "b881106a-d5d0-4878-939a-3a7efbba797d",
   "metadata": {},
   "outputs": [],
   "source": [
    "plt.figure(figsize=(7, 4))\n",
    "\n",
    "# Plot histogram manually\n",
    "counts, bins, patches = plt.hist(df[\"tenure\"], bins=50, edgecolor='black')\n",
    "\n",
    "# Generate a colormap\n",
    "colors = plt.cm.viridis(np.linspace(0, 1, len(patches)))\n",
    "\n",
    "# Apply colors to each bin\n",
    "for patch, color in zip(patches, colors):\n",
    "    patch.set_facecolor(color)\n",
    "\n",
    "plt.title(\"TENTURE DISTRIBUTION\", fontsize=12, fontweight='bold')\n",
    "plt.xlabel(\"Tenure\")\n",
    "plt.ylabel(\"Count\")\n",
    "plt.tight_layout()\n",
    "plt.show()"
   ]
  },
  {
   "cell_type": "code",
   "execution_count": null,
   "id": "e0c4ba2d-48e6-42d0-b041-a8494b3f2252",
   "metadata": {},
   "outputs": [],
   "source": [
    "# Explain: People who have used our service for a long time have stayed and People who haved used our service 1 or 2 Months have Churned "
   ]
  },
  {
   "cell_type": "code",
   "execution_count": null,
   "id": "828a6d92-3d24-4889-9896-183f3d952c99",
   "metadata": {},
   "outputs": [],
   "source": [
    "#8 Bar Label of Contract with Customers Behaviours & Status of Churn "
   ]
  },
  {
   "cell_type": "code",
   "execution_count": null,
   "id": "03376bcf-e209-48ea-ae35-8bb613100616",
   "metadata": {},
   "outputs": [],
   "source": [
    "plt.figure(figsize=(5, 5))\n",
    "\n",
    "# Plot with hue = Churn to show churned vs non-churned by Contract\n",
    "ax = sns.countplot(x=\"Contract\", hue=\"Churn\", data=df,\n",
    "                   palette=[\"orange\", \"lightblue\"])  # Customize as needed\n",
    "\n",
    "# Add count labels\n",
    "for container in ax.containers:\n",
    "    ax.bar_label(container, fmt='%d', label_type='edge', padding=3, fontsize=10, fontweight='bold')\n",
    "\n",
    "plt.title(\"CHURN STATUS BY CONTRACT TYPE\", fontsize=12, fontweight='bold')\n",
    "plt.xlabel(\"Contract Type\")\n",
    "plt.ylabel(\"Customer Count\")\n",
    "plt.tight_layout()\n",
    "plt.show()"
   ]
  },
  {
   "cell_type": "code",
   "execution_count": null,
   "id": "03d885d5-0478-4301-8c7e-224b5b611a91",
   "metadata": {},
   "outputs": [],
   "source": [
    "# Explain: People who have month to month contract are likely to churn then fom those who have 1 or 2 years of contract "
   ]
  },
  {
   "cell_type": "code",
   "execution_count": 49,
   "id": "0c0cc504-5a95-49c8-a7f3-e199a1fc081c",
   "metadata": {
    "collapsed": true,
    "jupyter": {
     "outputs_hidden": true
    },
    "scrolled": true
   },
   "outputs": [
    {
     "data": {
      "text/plain": [
       "array(['customerID', 'gender', 'SeniorCitizen', 'Partner', 'Dependents',\n",
       "       'tenure', 'PhoneService', 'MultipleLines', 'InternetService',\n",
       "       'OnlineSecurity', 'OnlineBackup', 'DeviceProtection',\n",
       "       'TechSupport', 'StreamingTV', 'StreamingMovies', 'Contract',\n",
       "       'PaperlessBilling', 'PaymentMethod', 'MonthlyCharges',\n",
       "       'TotalCharges', 'Churn'], dtype=object)"
      ]
     },
     "execution_count": 49,
     "metadata": {},
     "output_type": "execute_result"
    }
   ],
   "source": [
    "df.columns.values"
   ]
  },
  {
   "cell_type": "code",
   "execution_count": null,
   "id": "77ef6fc0-5142-4903-9276-6fee7d9d1154",
   "metadata": {},
   "outputs": [],
   "source": [
    "#9 This is the SUBPLOTS of all columns by concersding "
   ]
  },
  {
   "cell_type": "code",
   "execution_count": null,
   "id": "a772f4a3-a2aa-4122-a489-7fe62cbaefd7",
   "metadata": {
    "scrolled": true
   },
   "outputs": [],
   "source": [
    "# Step 1: List of categorical columns\n",
    "# Step 2: Set up grid\n",
    "n_cols = 3\n",
    "n_rows = -(-len(cat_cols) // n_cols)\n",
    "\n",
    "plt.figure(figsize=(n_cols * 6, n_rows * 4))\n",
    "\n",
    "# Step 3: Plot with dark colors\n",
    "for idx, col in enumerate(cat_cols, 1):\n",
    "    plt.subplot(n_rows, n_cols, idx)\n",
    "    sns.countplot(x=col, data=df, hue='Churn', palette='Set1')  # darker colors\n",
    "    plt.title(f'{col} vs Churn', fontsize=11, fontweight='bold')\n",
    "    plt.xlabel(col)\n",
    "    plt.ylabel('Count')\n",
    "    plt.xticks(rotation=45, ha='right')\n",
    "\n",
    "plt.tight_layout()\n",
    "plt.show()"
   ]
  },
  {
   "cell_type": "raw",
   "id": "27e6ca60-6577-492c-b6f2-2096f467ebeb",
   "metadata": {},
   "source": [
    "Explain: The majority of customers who do not churn tend to have service like PhoneService, InternetService (Particularly DSL), \n",
    "and OnlineSecurity enabled. For services like Online backup, Tech Support and Streaming TV, Churn rates are noticeably higher when these services are not used or are unavaliable. "
   ]
  },
  {
   "attachments": {},
   "cell_type": "markdown",
   "id": "37d9ebf5-fd07-4861-be32-eef8c86987f0",
   "metadata": {},
   "source": [
    "\n",
    "                                                            \n",
    "                                                            THANKYOU FOR VIEW\n",
    "\n"
   ]
  }
 ],
 "metadata": {
  "kernelspec": {
   "display_name": "Python 3 (ipykernel)",
   "language": "python",
   "name": "python3"
  },
  "language_info": {
   "codemirror_mode": {
    "name": "ipython",
    "version": 3
   },
   "file_extension": ".py",
   "mimetype": "text/x-python",
   "name": "python",
   "nbconvert_exporter": "python",
   "pygments_lexer": "ipython3",
   "version": "3.13.5"
  }
 },
 "nbformat": 4,
 "nbformat_minor": 5
}
